{
 "cells": [
  {
   "cell_type": "markdown",
   "metadata": {},
   "source": [
    "### False Positives & Negatives\n",
    "\n",
    "False Positive = Type I error\n",
    "False Negative = Type II error\n",
    "\n",
    "These can occur in your model. Specifcally logistic regression. \n",
    "\n",
    "### Confusion Matrix\n",
    "\n",
    "Given two categorical features (0 & 1) the confusion matrix gives us the number of correct predictions for 0 and 1 and then the number of type I and II errors. Its a convenient way to evaluate the performance of the model.\n",
    "\n",
    "You can calculate the:\n",
    "\n",
    "Accuracy rate = correct predictions / total predictions\n",
    "\n",
    "Error rate = wrong predictions / total predictions\n",
    "\n",
    "Although you shouldn't based your judgement simply on accuracy (accuracy paradox).\n",
    "\n",
    "### CAP Curve\n",
    "\n",
    "A more robust method to evaluate performance. Research.\n",
    "\n",
    "### Models Pros & Cons\n",
    "\n",
    "#### LOGISTIC REGRESSION\n",
    "\n",
    "PROS - Probabilistic approach, gives information about statistical significance of features\n",
    "\n",
    "CONS - Logistic regression assumptions\n",
    "\n",
    "#### K-NN\n",
    "\n",
    "PROS - Simple to understand, fast and efficient\n",
    "\n",
    "CONS - Need to choose the number of neighbours k\n",
    "\n",
    "#### SVM \n",
    "\n",
    "PROS - Performant, not biased by outsiders, not sensitive to overfitting.\n",
    "\n",
    "CONS - Not appropriate for non linear problems, not the best choice for large number of features\n",
    "\n",
    "#### Kernel SVM\n",
    "\n",
    "PROS - High performance on non-linear problems, not biased by outliers, not sensitive to overfitting\n",
    "\n",
    "CONS - Not the best for larger numbers of features, more complex\n",
    "\n",
    "#### Naive Bayes\n",
    "\n",
    "PROS - Efficient, not biased by outliers, works on non-linear problems, probabilistic approach\n",
    "\n",
    "CONS - Based on the assumption that features have same statistical relevance\n",
    "\n",
    "#### Decision Tree \n",
    "\n",
    "PROS - Interpretability, no need for feature scaling, works on both linear and nonlinear problems\n",
    "\n",
    "CONS - Poor results on small datasets, overfitting can easily occur\n",
    "\n",
    "#### Random Forest\n",
    "\n",
    "PROS =\n",
    "\n"
   ]
  },
  {
   "cell_type": "code",
   "execution_count": null,
   "metadata": {
    "scrolled": true
   },
   "outputs": [],
   "source": []
  }
 ],
 "metadata": {
  "kernelspec": {
   "display_name": "Python 3",
   "language": "python",
   "name": "python3"
  },
  "language_info": {
   "codemirror_mode": {
    "name": "ipython",
    "version": 3
   },
   "file_extension": ".py",
   "mimetype": "text/x-python",
   "name": "python",
   "nbconvert_exporter": "python",
   "pygments_lexer": "ipython3",
   "version": "3.6.8"
  }
 },
 "nbformat": 4,
 "nbformat_minor": 2
}
